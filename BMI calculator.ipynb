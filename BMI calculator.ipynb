{
 "cells": [
  {
   "cell_type": "code",
   "execution_count": 2,
   "id": "e0d584cd",
   "metadata": {},
   "outputs": [],
   "source": [
    "# BMI Calculator\n",
    "#   https://www.calculator.net/bmi-calculator.html"
   ]
  },
  {
   "cell_type": "code",
   "execution_count": null,
   "id": "5d3c618f",
   "metadata": {},
   "outputs": [],
   "source": [
    "name = input(\"Enter you name: \")\n",
    "\n",
    "weight = int(input(\"Enter you weight in pounds: \"))\n",
    "\n",
    "height = int(input(\"Enter you weight in inches: \"))\n",
    "\n",
    "\n",
    "\n",
    "#BMI = (weight in poinds * 703) / (height in inches * height in inches)\n",
    "BMI = (weight * 703) / ( height * height)\n",
    "\n",
    "print(BMI)\n",
    "\n",
    "\n",
    "\n",
    "if BMI > 0:\n",
    "    if(BMI < 18.5):\n",
    "        print(name + \", You are underweight\")\n",
    "    elif(BMI <= 24.9):\n",
    "        print(name + \", You are at a normal weight\")\n",
    "    elif(BMI < 29.9):\n",
    "        print(name + \", You are overweight\")\n",
    "    elif(BMI < 34.9):\n",
    "        print(name + \", You are obese\")\n",
    "    elif(BMI < 39.9):\n",
    "        print(name + \", You are serverly obese\")\n",
    "    else:\n",
    "        print(name + \", You are morbidly obese\")\n",
    "else:\n",
    "    print(\"enter valid inputs\")"
   ]
  },
  {
   "cell_type": "code",
   "execution_count": null,
   "id": "adfa885c",
   "metadata": {},
   "outputs": [],
   "source": []
  },
  {
   "cell_type": "code",
   "execution_count": null,
   "id": "08071f42",
   "metadata": {},
   "outputs": [],
   "source": []
  },
  {
   "cell_type": "code",
   "execution_count": null,
   "id": "8b828a11",
   "metadata": {},
   "outputs": [],
   "source": [
    "#BMI = (weight in poinds x 703) / (height in inches x height in inches)"
   ]
  },
  {
   "cell_type": "code",
   "execution_count": null,
   "id": "b66d3c41",
   "metadata": {},
   "outputs": [],
   "source": [
    "if BMI > 0:\n",
    "    if(BMI < 18.5):\n",
    "        print(name + \", You are underweight\")\n",
    "    elif(BMI <= 24.9):\n",
    "        print(name + \", You are at a normal weight\")\n",
    "    elif(BMI < 29.9):\n",
    "        print(name + \", You are overweight\")\n",
    "    elif(BMI < 34.9):\n",
    "        print(name + \", You are obese\")\n",
    "    elif(BMI < 39.9):\n",
    "        print(name + \", You are serverly obese\")\n",
    "    else:\n",
    "        print(name + \", You are morbidly obese\")\n",
    "else:\n",
    "    print(\"enter valid inputs\")"
   ]
  },
  {
   "cell_type": "code",
   "execution_count": null,
   "id": "1a07708b",
   "metadata": {},
   "outputs": [],
   "source": []
  },
  {
   "cell_type": "code",
   "execution_count": null,
   "id": "995e942d",
   "metadata": {},
   "outputs": [],
   "source": []
  },
  {
   "cell_type": "code",
   "execution_count": null,
   "id": "b618be84",
   "metadata": {},
   "outputs": [],
   "source": []
  },
  {
   "cell_type": "code",
   "execution_count": null,
   "id": "ce5c0de2",
   "metadata": {},
   "outputs": [],
   "source": []
  },
  {
   "cell_type": "code",
   "execution_count": null,
   "id": "a3b0d15f",
   "metadata": {},
   "outputs": [],
   "source": []
  },
  {
   "cell_type": "code",
   "execution_count": null,
   "id": "b3cf25ad",
   "metadata": {},
   "outputs": [],
   "source": []
  },
  {
   "cell_type": "code",
   "execution_count": null,
   "id": "94989753",
   "metadata": {},
   "outputs": [],
   "source": []
  },
  {
   "cell_type": "code",
   "execution_count": null,
   "id": "c8c14288",
   "metadata": {},
   "outputs": [],
   "source": []
  },
  {
   "cell_type": "code",
   "execution_count": null,
   "id": "4e78d9ea",
   "metadata": {},
   "outputs": [],
   "source": []
  },
  {
   "cell_type": "code",
   "execution_count": null,
   "id": "0a4f26f8",
   "metadata": {},
   "outputs": [],
   "source": []
  },
  {
   "cell_type": "code",
   "execution_count": null,
   "id": "b4a6aa7e",
   "metadata": {},
   "outputs": [],
   "source": []
  }
 ],
 "metadata": {
  "kernelspec": {
   "display_name": "Python 3 (ipykernel)",
   "language": "python",
   "name": "python3"
  },
  "language_info": {
   "codemirror_mode": {
    "name": "ipython",
    "version": 3
   },
   "file_extension": ".py",
   "mimetype": "text/x-python",
   "name": "python",
   "nbconvert_exporter": "python",
   "pygments_lexer": "ipython3",
   "version": "3.10.9"
  }
 },
 "nbformat": 4,
 "nbformat_minor": 5
}
